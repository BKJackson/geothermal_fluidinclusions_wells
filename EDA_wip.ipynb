{
 "cells": [
  {
   "cell_type": "markdown",
   "id": "4865556b",
   "metadata": {},
   "source": [
    "# Exploratory Data Analysis on all fluid inclusion data (not geolocated)\n",
    "\n",
    "- Clean data - DONE\n",
    "- Use [pandas profiling](https://github.com/pandas-profiling/pandas-profiling)\n",
    "  - This did not work due to:\n",
    "      `MemoryError: Unable to allocate 319. TiB for an array with shape (43812872618454,) and data type float64`\n",
    "- Use [missingno](https://github.com/ResidentMario/missingno) as first pass\n",
    "- Use [seaborn](https://seaborn.pydata.org/examples/index.html) for quick plots\n",
    "\n",
    "Data files:"
   ]
  },
  {
   "cell_type": "code",
   "execution_count": 1,
   "id": "c05d5b56",
   "metadata": {},
   "outputs": [],
   "source": [
    "clean = './data/cleaned_types.csv'"
   ]
  },
  {
   "cell_type": "markdown",
   "id": "4325bc3f",
   "metadata": {},
   "source": [
    "Imports"
   ]
  },
  {
   "cell_type": "code",
   "execution_count": 2,
   "id": "c84a0934",
   "metadata": {},
   "outputs": [],
   "source": [
    "import numpy as np\n",
    "import pandas as pd\n",
    "\n",
    "import missingno as msno\n",
    "from pandas_profiling import ProfileReport\n",
    "\n",
    "import matplotlib.pyplot as plt\n",
    "import seaborn as sns"
   ]
  },
  {
   "cell_type": "markdown",
   "id": "1f9d52f6",
   "metadata": {},
   "source": [
    "## First pass"
   ]
  },
  {
   "cell_type": "code",
   "execution_count": 3,
   "id": "57ac51cb",
   "metadata": {},
   "outputs": [
    {
     "data": {
      "text/html": [
       "<div>\n",
       "<style scoped>\n",
       "    .dataframe tbody tr th:only-of-type {\n",
       "        vertical-align: middle;\n",
       "    }\n",
       "\n",
       "    .dataframe tbody tr th {\n",
       "        vertical-align: top;\n",
       "    }\n",
       "\n",
       "    .dataframe thead th {\n",
       "        text-align: right;\n",
       "    }\n",
       "</style>\n",
       "<table border=\"1\" class=\"dataframe\">\n",
       "  <thead>\n",
       "    <tr style=\"text-align: right;\">\n",
       "      <th></th>\n",
       "      <th>Type</th>\n",
       "      <th>Geothermal Province</th>\n",
       "      <th>State</th>\n",
       "      <th>Field</th>\n",
       "      <th>Well ID</th>\n",
       "      <th>Sample ID</th>\n",
       "      <th>Depth (ft)</th>\n",
       "      <th>AMU1</th>\n",
       "      <th>AMU2</th>\n",
       "      <th>AMU3</th>\n",
       "      <th>...</th>\n",
       "      <th>AMU176.UNKN</th>\n",
       "      <th>AMU177.UNKN</th>\n",
       "      <th>AMU178.UNKN</th>\n",
       "      <th>AMU179.UNKN</th>\n",
       "      <th>AMU180.UNKN</th>\n",
       "      <th>FIT Well</th>\n",
       "      <th>Unnamed: 188</th>\n",
       "      <th>Unnamed: 8</th>\n",
       "      <th>Unnamed: 9</th>\n",
       "      <th>Unnamed: 187</th>\n",
       "    </tr>\n",
       "  </thead>\n",
       "  <tbody>\n",
       "    <tr>\n",
       "      <th>0</th>\n",
       "      <td>Transform Extension</td>\n",
       "      <td>Sierra Nevada</td>\n",
       "      <td>California</td>\n",
       "      <td>COSO</td>\n",
       "      <td>15A-17</td>\n",
       "      <td>2202.0</td>\n",
       "      <td>510.0</td>\n",
       "      <td>0.0</td>\n",
       "      <td>294200.0</td>\n",
       "      <td>53.30</td>\n",
       "      <td>...</td>\n",
       "      <td>0.0</td>\n",
       "      <td>0.00</td>\n",
       "      <td>2434.00</td>\n",
       "      <td>0.0</td>\n",
       "      <td>0.000</td>\n",
       "      <td>NaN</td>\n",
       "      <td>NaN</td>\n",
       "      <td>NaN</td>\n",
       "      <td>NaN</td>\n",
       "      <td>NaN</td>\n",
       "    </tr>\n",
       "    <tr>\n",
       "      <th>1</th>\n",
       "      <td>Transform Extension</td>\n",
       "      <td>Sierra Nevada</td>\n",
       "      <td>California</td>\n",
       "      <td>COSO</td>\n",
       "      <td>15A-17</td>\n",
       "      <td>2203.0</td>\n",
       "      <td>530.0</td>\n",
       "      <td>0.0</td>\n",
       "      <td>320600.0</td>\n",
       "      <td>48.95</td>\n",
       "      <td>...</td>\n",
       "      <td>0.0</td>\n",
       "      <td>80.84</td>\n",
       "      <td>59.98</td>\n",
       "      <td>0.0</td>\n",
       "      <td>11.450</td>\n",
       "      <td>NaN</td>\n",
       "      <td>NaN</td>\n",
       "      <td>NaN</td>\n",
       "      <td>NaN</td>\n",
       "      <td>NaN</td>\n",
       "    </tr>\n",
       "    <tr>\n",
       "      <th>2</th>\n",
       "      <td>Transform Extension</td>\n",
       "      <td>Sierra Nevada</td>\n",
       "      <td>California</td>\n",
       "      <td>COSO</td>\n",
       "      <td>15A-17</td>\n",
       "      <td>2204.0</td>\n",
       "      <td>550.0</td>\n",
       "      <td>0.0</td>\n",
       "      <td>385400.0</td>\n",
       "      <td>159.40</td>\n",
       "      <td>...</td>\n",
       "      <td>592.6</td>\n",
       "      <td>0.00</td>\n",
       "      <td>580.30</td>\n",
       "      <td>0.0</td>\n",
       "      <td>27.630</td>\n",
       "      <td>NaN</td>\n",
       "      <td>NaN</td>\n",
       "      <td>NaN</td>\n",
       "      <td>NaN</td>\n",
       "      <td>NaN</td>\n",
       "    </tr>\n",
       "    <tr>\n",
       "      <th>3</th>\n",
       "      <td>Transform Extension</td>\n",
       "      <td>Sierra Nevada</td>\n",
       "      <td>California</td>\n",
       "      <td>COSO</td>\n",
       "      <td>15A-17</td>\n",
       "      <td>2205.0</td>\n",
       "      <td>570.0</td>\n",
       "      <td>0.0</td>\n",
       "      <td>448600.0</td>\n",
       "      <td>122.90</td>\n",
       "      <td>...</td>\n",
       "      <td>376.7</td>\n",
       "      <td>0.00</td>\n",
       "      <td>577.80</td>\n",
       "      <td>6065.0</td>\n",
       "      <td>0.000</td>\n",
       "      <td>NaN</td>\n",
       "      <td>NaN</td>\n",
       "      <td>NaN</td>\n",
       "      <td>NaN</td>\n",
       "      <td>NaN</td>\n",
       "    </tr>\n",
       "    <tr>\n",
       "      <th>4</th>\n",
       "      <td>Transform Extension</td>\n",
       "      <td>Sierra Nevada</td>\n",
       "      <td>California</td>\n",
       "      <td>COSO</td>\n",
       "      <td>15A-17</td>\n",
       "      <td>2206.0</td>\n",
       "      <td>590.0</td>\n",
       "      <td>0.0</td>\n",
       "      <td>293800.0</td>\n",
       "      <td>47.05</td>\n",
       "      <td>...</td>\n",
       "      <td>241.1</td>\n",
       "      <td>33.28</td>\n",
       "      <td>378.30</td>\n",
       "      <td>5696.0</td>\n",
       "      <td>1.211</td>\n",
       "      <td>NaN</td>\n",
       "      <td>NaN</td>\n",
       "      <td>NaN</td>\n",
       "      <td>NaN</td>\n",
       "      <td>NaN</td>\n",
       "    </tr>\n",
       "  </tbody>\n",
       "</table>\n",
       "<p>5 rows × 192 columns</p>\n",
       "</div>"
      ],
      "text/plain": [
       "                  Type Geothermal Province       State Field Well ID  \\\n",
       "0  Transform Extension       Sierra Nevada  California  COSO  15A-17   \n",
       "1  Transform Extension       Sierra Nevada  California  COSO  15A-17   \n",
       "2  Transform Extension       Sierra Nevada  California  COSO  15A-17   \n",
       "3  Transform Extension       Sierra Nevada  California  COSO  15A-17   \n",
       "4  Transform Extension       Sierra Nevada  California  COSO  15A-17   \n",
       "\n",
       "   Sample ID  Depth (ft)  AMU1      AMU2    AMU3  ...  AMU176.UNKN  \\\n",
       "0     2202.0       510.0   0.0  294200.0   53.30  ...          0.0   \n",
       "1     2203.0       530.0   0.0  320600.0   48.95  ...          0.0   \n",
       "2     2204.0       550.0   0.0  385400.0  159.40  ...        592.6   \n",
       "3     2205.0       570.0   0.0  448600.0  122.90  ...        376.7   \n",
       "4     2206.0       590.0   0.0  293800.0   47.05  ...        241.1   \n",
       "\n",
       "   AMU177.UNKN  AMU178.UNKN  AMU179.UNKN  AMU180.UNKN  FIT Well  Unnamed: 188  \\\n",
       "0         0.00      2434.00          0.0        0.000       NaN           NaN   \n",
       "1        80.84        59.98          0.0       11.450       NaN           NaN   \n",
       "2         0.00       580.30          0.0       27.630       NaN           NaN   \n",
       "3         0.00       577.80       6065.0        0.000       NaN           NaN   \n",
       "4        33.28       378.30       5696.0        1.211       NaN           NaN   \n",
       "\n",
       "   Unnamed: 8  Unnamed: 9  Unnamed: 187  \n",
       "0         NaN         NaN           NaN  \n",
       "1         NaN         NaN           NaN  \n",
       "2         NaN         NaN           NaN  \n",
       "3         NaN         NaN           NaN  \n",
       "4         NaN         NaN           NaN  \n",
       "\n",
       "[5 rows x 192 columns]"
      ]
     },
     "execution_count": 3,
     "metadata": {},
     "output_type": "execute_result"
    }
   ],
   "source": [
    "df = pd.read_csv(clean)\n",
    "df.head()"
   ]
  },
  {
   "cell_type": "code",
   "execution_count": 4,
   "id": "9e57ef43",
   "metadata": {},
   "outputs": [
    {
     "data": {
      "text/plain": [
       "1864704"
      ]
     },
     "execution_count": 4,
     "metadata": {},
     "output_type": "execute_result"
    }
   ],
   "source": [
    "df.size"
   ]
  },
  {
   "cell_type": "code",
   "execution_count": 5,
   "id": "16428aae",
   "metadata": {},
   "outputs": [
    {
     "data": {
      "text/plain": [
       "(9712, 192)"
      ]
     },
     "execution_count": 5,
     "metadata": {},
     "output_type": "execute_result"
    }
   ],
   "source": [
    "df.shape"
   ]
  },
  {
   "cell_type": "code",
   "execution_count": 6,
   "id": "67ef62bc",
   "metadata": {},
   "outputs": [
    {
     "data": {
      "text/plain": [
       "<AxesSubplot:>"
      ]
     },
     "execution_count": 6,
     "metadata": {},
     "output_type": "execute_result"
    },
    {
     "data": {
      "image/png": "[encoded data removed]",
      "text/plain": [
       "<Figure size 432x288 with 1 Axes>"
      ]
     },
     "metadata": {
      "needs_background": "light"
     },
     "output_type": "display_data"
    }
   ],
   "source": [
    "df.AMU1.plot()"
   ]
  },
  {
   "cell_type": "code",
   "execution_count": 7,
   "id": "2b189282",
   "metadata": {},
   "outputs": [],
   "source": [
    "# Yields MemoryError: Unable to allocate 319. TiB for an array with shape (43812872618454,) and data type float64\n",
    "#profile = ProfileReport(df, title='COSO fluid inclusions profiling')\n",
    "#profile"
   ]
  },
  {
   "cell_type": "markdown",
   "id": "a4f7f65d",
   "metadata": {},
   "source": [
    "We can't load the file into pandas profiling as it's too large but the values need to be floats, we could perhaps change them to float32 to save some space but that probably won't be enough.\n",
    "\n",
    "From [this](https://www.zdnet.com/article/how-much-does-1-5tb-of-ram-cost/) webpage, 1TB of RAM costs USD12,000 so for 319 TB the base cost would be USD3,828,000"
   ]
  },
  {
   "cell_type": "markdown",
   "id": "6e705d10",
   "metadata": {},
   "source": [
    "## `missingno`"
   ]
  },
  {
   "cell_type": "code",
   "execution_count": null,
   "id": "a8cf9bb2",
   "metadata": {},
   "outputs": [],
   "source": []
  }
 ],
 "metadata": {
  "kernelspec": {
   "display_name": "geothack",
   "language": "python",
   "name": "geothack"
  },
  "language_info": {
   "codemirror_mode": {
    "name": "ipython",
    "version": 3
   },
   "file_extension": ".py",
   "mimetype": "text/x-python",
   "name": "python",
   "nbconvert_exporter": "python",
   "pygments_lexer": "ipython3",
   "version": "3.8.8"
  }
 },
 "nbformat": 4,
 "nbformat_minor": 5
}
