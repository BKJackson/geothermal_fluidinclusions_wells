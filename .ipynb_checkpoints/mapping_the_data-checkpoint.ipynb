{
 "cells": [
  {
   "cell_type": "markdown",
   "metadata": {},
   "source": [
    "# Mapping out our data\n",
    "\n",
    "We have some data that is geo-aware. This means that we can place it on a map.\n",
    "\n",
    "To run this notebook you will need `geopandas`, `contextily`, `mapclassify` in addition to the fairly standard `pandas` and `matplotlib.pyplot`. The resulting plots have been saved, and are available to view directly."
   ]
  },
  {
   "cell_type": "code",
   "execution_count": null,
   "metadata": {},
   "outputs": [],
   "source": [
    "import pandas as pd\n",
    "import geopandas as gpd\n",
    "import matplotlib.pyplot as plt\n",
    "import contextily as ctx"
   ]
  },
  {
   "cell_type": "markdown",
   "metadata": {},
   "source": [
    "Load our data:"
   ]
  },
  {
   "cell_type": "code",
   "execution_count": null,
   "metadata": {},
   "outputs": [],
   "source": [
    "all_coords = pd.read_csv('s3://geotermaldata/S3FluidInclusionGasAnalysisData/COSO Field/COSO_wells_coord_gen.csv',\n",
    "                         skipinitialspace=True,\n",
    "                         delimiter=r'\\s*,',  # this removes some annoying spaces before the comma.\n",
    "                         engine='python',\n",
    "                        )"
   ]
  },
  {
   "cell_type": "code",
   "execution_count": null,
   "metadata": {},
   "outputs": [],
   "source": [
    "fname = './data/cleaned_types.csv'\n",
    "df = pd.read_csv(fname)\n",
    "df"
   ]
  },
  {
   "cell_type": "markdown",
   "metadata": {},
   "source": [
    "There are some columns that contain no data in the coordinates DataFrame, so we will drop those."
   ]
  },
  {
   "cell_type": "code",
   "execution_count": null,
   "metadata": {},
   "outputs": [],
   "source": [
    "all_coords.dropna(axis='columns', inplace=True)\n",
    "all_coords"
   ]
  },
  {
   "cell_type": "code",
   "execution_count": null,
   "metadata": {},
   "outputs": [],
   "source": [
    "all_coords.columns"
   ]
  },
  {
   "cell_type": "code",
   "execution_count": null,
   "metadata": {},
   "outputs": [],
   "source": [
    "gdf = gpd.GeoDataFrame(df)"
   ]
  },
  {
   "cell_type": "markdown",
   "metadata": {},
   "source": [
    "Although we have created `gdf` as a GeoDataFrame it does not have a proper geometry column yet.\n",
    "\n",
    "To create this column we need to have each point as a geometry. The easiest approach is to use `.apply` to combine the `Long83` and `Lat83` columns into a proper `Point`. First we need to add the information from `all_coords` to `gdf`, which we can do with the `merge` method:"
   ]
  },
  {
   "cell_type": "code",
   "execution_count": null,
   "metadata": {},
   "outputs": [],
   "source": [
    "gdf = gdf.merge(all_coords, left_on='Well ID', right_on='WellNumber')\n",
    "gdf"
   ]
  },
  {
   "cell_type": "markdown",
   "metadata": {},
   "source": [
    "Notice that we have more columns than we started with, which are the ones from `all_coords`. We have also lost some rows, which are those from our fluid inclusion data which do not have a matching well in the coordinates DataFrame."
   ]
  },
  {
   "cell_type": "markdown",
   "metadata": {},
   "source": [
    "Now we can use `.apply` to make a valid shapely `Point` based on the `Long83` and `Lat83` columns. This will give us a `geometry` column which will get used when plotting."
   ]
  },
  {
   "cell_type": "code",
   "execution_count": null,
   "metadata": {},
   "outputs": [],
   "source": [
    "from shapely.geometry import Point\n",
    "\n",
    "def make_point(row):\n",
    "    #print(row)\n",
    "    return Point(float(row['Long83']), float(row['Lat83']))"
   ]
  },
  {
   "cell_type": "code",
   "execution_count": null,
   "metadata": {},
   "outputs": [],
   "source": [
    "gdf['geometry'] = gdf.apply(make_point, axis=1)\n",
    "gdf = gdf.set_geometry('geometry', crs=\"EPSG:4326\")\n",
    "gdf"
   ]
  },
  {
   "cell_type": "markdown",
   "metadata": {},
   "source": [
    "We can also make a GeoDataFrame of all of the wells in much the same way. These have no fluid inclusion data associated with them though."
   ]
  },
  {
   "cell_type": "code",
   "execution_count": null,
   "metadata": {},
   "outputs": [],
   "source": [
    "all_wells = gpd.GeoDataFrame(all_coords)  # turn the wells into a GeoDataFrame\n",
    "all_wells['geometry'] = all_wells.apply(make_point, axis=1)\n",
    "all_wells.set_crs(epsg=4326, inplace=True)\n",
    "all_wells"
   ]
  },
  {
   "cell_type": "markdown",
   "metadata": {},
   "source": [
    "## Plotting Things!\n",
    "\n",
    "Our wells with fluid inclusions are shown in orange, with the remainder in blue."
   ]
  },
  {
   "cell_type": "code",
   "execution_count": null,
   "metadata": {},
   "outputs": [],
   "source": [
    "fig, ax = plt.subplots()\n",
    "all_wells.plot(ax=ax)\n",
    "gdf.plot(ax=ax)"
   ]
  },
  {
   "cell_type": "markdown",
   "metadata": {},
   "source": [
    "Since we are plotting maps, we need to have a single value per point to plot. We can use the maximum depth as something useful for now."
   ]
  },
  {
   "cell_type": "code",
   "execution_count": null,
   "metadata": {},
   "outputs": [],
   "source": [
    "wells = gpd.GeoDataFrame()\n",
    "for group in gdf.groupby('Well ID'):\n",
    "    wells = wells.append(group[1].loc[group[1]['Depth (ft)'] == group[1]['Depth (ft)'].max()])\n",
    "    \n",
    "wells"
   ]
  },
  {
   "cell_type": "markdown",
   "metadata": {},
   "source": [
    "Notice that this has some wells that are duplicated, because there are more than one in the `all_coords` DataFrame (one is active and one is inactive. We can either ignore these or drop them later. I am just ignoring this for now, because the data is the same."
   ]
  },
  {
   "cell_type": "code",
   "execution_count": null,
   "metadata": {},
   "outputs": [],
   "source": [
    "for idx, well in enumerate(wells['Well ID']):\n",
    "    try:\n",
    "        if wells.iloc[idx-1]['Well ID'] == well:\n",
    "            print(f'{idx-1} and {idx} are both well {well}.')\n",
    "    except IndexError:\n",
    "        continue"
   ]
  },
  {
   "cell_type": "markdown",
   "metadata": {},
   "source": [
    "Adding some basemaps to our plots."
   ]
  },
  {
   "cell_type": "code",
   "execution_count": null,
   "metadata": {},
   "outputs": [],
   "source": [
    "tiles = ctx.providers.Stamen.Terrain\n",
    "image = ctx.providers.Esri.WorldImagery\n",
    "\n",
    "fig, ax = plt.subplots(figsize=(12,12))\n",
    "all_wells.plot(ax=ax, c='white', ec='k', markersize=40)\n",
    "wells.plot(ax=ax, ec='k', markersize=50, column='WellType', legend=True)\n",
    "ctx.add_basemap(ax=ax, source=tiles, crs=4326, attribution='')\n",
    "ctx.add_basemap(ax=ax, source=image, crs=4326, alpha=0.6, attribution='')\n",
    "ctx.add_attribution(ax=ax, text=f'{tiles.attribution}\\n{image.attribution}')\n",
    "\n",
    "# Add labels for our wells of interest.\n",
    "for well, lat, lon in zip(wells['Well ID'], wells['Lat83'],  wells['Long83']):\n",
    "    geom = (float(lon)+0.001, float(lat)-0.001)\n",
    "    ax.annotate(well, geom)\n",
    "    \n",
    "plt.tight_layout()\n",
    "plt.savefig('./img/all_wells.png', dpi=300)"
   ]
  },
  {
   "cell_type": "code",
   "execution_count": null,
   "metadata": {},
   "outputs": [],
   "source": [
    "fig, ax = plt.subplots(figsize=(12,12))\n",
    "wells.plot(ax=ax, ec='k', markersize=50, column='WellType', legend=True)\n",
    "\n",
    "ctx.add_basemap(ax=ax, source=tiles, crs=4326, attribution='')\n",
    "ctx.add_basemap(ax=ax, source=image, crs=4326, alpha=0.6, attribution='')\n",
    "ctx.add_attribution(ax=ax, text=f'{tiles.attribution}\\n{image.attribution}')\n",
    "\n",
    "for well, lat, lon in zip(wells['Well ID'], wells['Lat83'],  wells['Long83']):\n",
    "    geom = (float(lon)+0.001, float(lat)-0.001)\n",
    "    ax.annotate(well, geom)\n",
    "    \n",
    "plt.tight_layout()\n",
    "plt.savefig('./img/fi_wells.png', dpi=300)"
   ]
  },
  {
   "cell_type": "markdown",
   "metadata": {},
   "source": [
    "### Plotting maximum depths\n",
    "\n",
    "The depths are in feet, so I am converting them to metres."
   ]
  },
  {
   "cell_type": "code",
   "execution_count": null,
   "metadata": {},
   "outputs": [],
   "source": [
    "wells['Depth (ft)'].describe()"
   ]
  },
  {
   "cell_type": "code",
   "execution_count": null,
   "metadata": {},
   "outputs": [],
   "source": [
    "wells['Depth_m'] = wells['Depth (ft)'] * 0.3048\n",
    "wells['Depth_m']"
   ]
  },
  {
   "cell_type": "code",
   "execution_count": null,
   "metadata": {},
   "outputs": [],
   "source": []
  },
  {
   "cell_type": "markdown",
   "metadata": {},
   "source": [
    "Now we can plot them easily:"
   ]
  },
  {
   "cell_type": "code",
   "execution_count": null,
   "metadata": {},
   "outputs": [],
   "source": [
    "fig, ax = plt.subplots(figsize=(12,12))\n",
    "wells.plot(ax=ax, ec='k', markersize=50,\n",
    "           column='Depth_m',\n",
    "           scheme='percentiles',\n",
    "           legend=True,\n",
    "           cmap=plt.cm.plasma,\n",
    "          )\n",
    "\n",
    "ctx.add_basemap(ax=ax, source=tiles, crs=4326, attribution='')\n",
    "ctx.add_basemap(ax=ax, source=image, crs=4326, alpha=0.6, attribution='')\n",
    "ctx.add_attribution(ax=ax, text=f'{tiles.attribution}\\n{image.attribution}')\n",
    "\n",
    "for well, lat, lon in zip(wells['Well ID'], wells['Lat83'],  wells['Long83']):\n",
    "    geom = (float(lon)+0.001, float(lat)-0.001)\n",
    "    #print(geom)\n",
    "    ax.annotate(well, geom)\n",
    "    \n",
    "plt.tight_layout()\n",
    "plt.savefig('./img/fi_wells_depth.png', dpi=300)"
   ]
  },
  {
   "cell_type": "code",
   "execution_count": null,
   "metadata": {},
   "outputs": [],
   "source": [
    "gdf.to_file('./data/fi_wells.gpkg', driver='GPKG')"
   ]
  },
  {
   "cell_type": "code",
   "execution_count": null,
   "metadata": {},
   "outputs": [],
   "source": [
    "all_wells.to_file('./data/well_locations.gpkg', driver='GPKG')"
   ]
  },
  {
   "cell_type": "code",
   "execution_count": null,
   "metadata": {},
   "outputs": [],
   "source": []
  }
 ],
 "metadata": {
  "kernelspec": {
   "display_name": "Python 3",
   "language": "python",
   "name": "python3"
  },
  "language_info": {
   "codemirror_mode": {
    "name": "ipython",
    "version": 3
   },
   "file_extension": ".py",
   "mimetype": "text/x-python",
   "name": "python",
   "nbconvert_exporter": "python",
   "pygments_lexer": "ipython3",
   "version": "3.7.8"
  }
 },
 "nbformat": 4,
 "nbformat_minor": 5
}
